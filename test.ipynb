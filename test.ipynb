from vector_store import init_vector_store

vector_db = init_vector_store()
retriever = vector_db.as_retriever()
docs = retriever.get_relevant_documents("blockchain")  # Test query

for doc in docs:
    print(doc.metadata)  # Should include "page"
