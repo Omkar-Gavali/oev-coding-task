{
 "cells": [
  {
   "cell_type": "code",
   "execution_count": 22,
   "metadata": {},
   "outputs": [],
   "source": [
    "# Specify the path to your PDF file\n",
    "pdf_path = \"test.pdf\"  # Change this to your actual PDF file path\n",
    "\n",
    "# Open the PDF file\n",
    "pdf_document = fitz.open(pdf_path)"
   ]
  },
  {
   "cell_type": "code",
   "execution_count": 21,
   "metadata": {},
   "outputs": [
    {
     "name": "stdout",
     "output_type": "stream",
     "text": [
      "C:\\Users\\Omkar\\3D Objects\\HTW_Masters\\Thesis\\oev-coding-task\n"
     ]
    }
   ],
   "source": [
    "cd C:\\Users\\Omkar\\3D Objects\\HTW_Masters\\Thesis\\oev-coding-task\\"
   ]
  },
  {
   "cell_type": "code",
   "execution_count": 17,
   "metadata": {},
   "outputs": [
    {
     "name": "stdout",
     "output_type": "stream",
     "text": [
      "Collecting pymupdfNote: you may need to restart the kernel to use updated packages.\n",
      "\n",
      "  Downloading pymupdf-1.25.3-cp39-abi3-win_amd64.whl (16.5 MB)\n",
      "     ---------------------------------------- 16.5/16.5 MB 4.5 MB/s eta 0:00:00\n",
      "Installing collected packages: pymupdf\n",
      "Successfully installed pymupdf-1.25.3\n"
     ]
    },
    {
     "name": "stderr",
     "output_type": "stream",
     "text": [
      "\n",
      "[notice] A new release of pip available: 22.3.1 -> 25.0.1\n",
      "[notice] To update, run: python.exe -m pip install --upgrade pip\n"
     ]
    }
   ],
   "source": [
    "\n",
    "pip install pymupdf\n"
   ]
  },
  {
   "cell_type": "code",
   "execution_count": 18,
   "metadata": {},
   "outputs": [],
   "source": [
    "import fitz"
   ]
  },
  {
   "cell_type": "code",
   "execution_count": 24,
   "metadata": {},
   "outputs": [
    {
     "name": "stdout",
     "output_type": "stream",
     "text": [
      "page 0 of test.pdf\n"
     ]
    }
   ],
   "source": [
    "print(pdf_document[0])"
   ]
  },
  {
   "cell_type": "code",
   "execution_count": 25,
   "metadata": {},
   "outputs": [
    {
     "name": "stdout",
     "output_type": "stream",
     "text": [
      "--- Raw Content of Page 1 ---\n",
      "\n",
      "\"AI and Technology Knowledge Base\\nIntroduction to Artificial Intelligence\\nArtificial Intelligence (AI) is a branch of computer science that focuses on creating machines\\ncapable of performing tasks that would normally require human intelligence. These tasks\\ninclude learning, problem-solving, perception, language understanding, and\\ndecision-making. AI systems can be classified into two broad categories: narrow AI, which is\\ndesigned to perform a narrow task (such as facial recognition or internet searches), and\\ngeneral AI, which has the ability to perform any intellectual task that a human can do. AI is\\ntransforming industries, from healthcare and finance to transportation and manufacturing.\\nThe evolution of AI can be traced back to early philosophical discussions about the nature of\\nthe mind and mechanical reasoning. However, the modern development of AI began with the\\ninvention of computers, which made it possible to simulate reasoning and decision-making\\nthrough algorithms. In the 1950s, computer scientists like Alan Turing and John McCarthy\\nlaid the foundation for AI by exploring questions of machine intelligence. Turing's 'Turing\\nTest' remains a benchmark for evaluating a machine's ability to exhibit intelligent behavior\\nindistinguishable from that of a human.\\nToday, AI applications are pervasive, ranging from virtual assistants like Siri and Alexa to\\nadvanced autonomous systems like self-driving cars. Machine learning, a subfield of AI, has\\nbecome particularly important due to its ability to 'learn' from data without explicit\\nprogramming. Machine learning models can be trained to recognize patterns in data,\\nenabling them to make predictions and decisions. In recent years, advances in neural\\nnetworks, deep learning, and reinforcement learning have propelled AI to new heights. AI is\\nnow capable of tasks such as understanding natural language, diagnosing diseases, and\\nplaying complex games like chess and Go at a superhuman level.\\nQuantum Computing Basics\\nQuantum computing is a new paradigm of computing that leverages the principles of\\nquantum mechanics to process information in ways that classical computers cannot. The\\nfundamental unit of quantum computing is the quantum bit, or qubit, which can exist in a\\nsuperposition of states, meaning it can be both 0 and 1 simultaneously. This allows quantum\\ncomputers to perform certain types of calculations much more efficiently than classical\\ncomputers.\\nQuantum computers use quantum gates to manipulate qubits in a manner analogous to how\\nclassical computers use logic gates to manipulate bits. However, because qubits can exist in\\nmultiple states at once, quantum gates can perform operations on many possible inputs\\nsimultaneously. This property, known as quantum parallelism, is what gives quantum\\ncomputers their immense potential. Additionally, quantum entanglement allows qubits to be\\n\"\n",
      "\n",
      "--------------------------------------------------\n",
      "\n",
      "--- Raw Content of Page 2 ---\n",
      "\n",
      "\"correlated with each other in such a way that the state of one qubit is dependent on the\\nstate of another, even if they are far apart.\\nQuantum computers are still in the early stages of development, but they hold great promise\\nfor solving problems that are intractable for classical computers. These include factoring\\nlarge numbers, optimizing complex systems, and simulating the behavior of molecules and\\nmaterials at the quantum level. Companies like IBM, Google, and Rigetti Computing are at\\nthe forefront of quantum computing research, developing both hardware and software for\\nquantum systems. While fully scalable quantum computers are not yet available, the\\nprogress made in recent years suggests that they could revolutionize fields such as\\ncryptography, drug discovery, and artificial intelligence.\\nBlockchain Technology Overview\\nBlockchain is a decentralized and distributed digital ledger technology that records\\ntransactions across multiple computers in such a way that the recorded transactions cannot\\nbe altered retroactively. Blockchain technology underpins cryptocurrencies like Bitcoin and\\nEthereum, but its applications extend far beyond digital currencies. In essence, a blockchain\\nis a chain of blocks, where each block contains a set of transactions. Once a block is\\ncompleted, it is added to the chain in a linear, chronological order, and the record of the\\ntransaction is permanently stored.\\nOne of the key features of blockchain is its security. Each block in the chain is linked to the\\nprevious block using a cryptographic hash, ensuring the integrity of the entire chain. To alter\\nany single transaction, an attacker would have to modify not only the block containing that\\ntransaction but also all subsequent blocks, making blockchain highly resistant to tampering.\\nThis security feature makes blockchain particularly well-suited for applications where trust\\nand transparency are critical.\\nBlockchain's decentralized nature means that no single entity controls the entire network.\\nInstead, multiple participants (or nodes) maintain the blockchain, with each node having a\\ncopy of the entire ledger. This decentralization eliminates the need for intermediaries, such\\nas banks or other financial institutions, in peer-to-peer transactions. Blockchain technology\\nis now being explored for applications in supply chain management, voting systems,\\nhealthcare, and digital identity management, among others. Smart contracts, which are\\nself-executing contracts with the terms of the agreement directly written into code, are one\\nof the most exciting developments in the blockchain space, enabling automated and\\ntrustless transactions.\\n\"\n",
      "\n",
      "--------------------------------------------------\n",
      "\n"
     ]
    }
   ],
   "source": [
    "import fitz  # PyMuPDF\n",
    "\n",
    "pdf_path = \"test.pdf\"  # Change to your file\n",
    "\n",
    "# Open the PDF\n",
    "pdf_document = fitz.open(pdf_path)\n",
    "\n",
    "# Iterate through pages and print raw extracted text\n",
    "for page_num in range(len(pdf_document)):\n",
    "    page = pdf_document[page_num]  # Get page\n",
    "    raw_text = page.get_text(\"text\")  # Extract text\n",
    "\n",
    "    print(f\"--- Raw Content of Page {page_num + 1} ---\\n\")\n",
    "    print(repr(raw_text))  # Shows raw format including special characters\n",
    "    print(\"\\n\" + \"-\"*50 + \"\\n\")  \n",
    "\n",
    "pdf_document.close()\n"
   ]
  },
  {
   "cell_type": "code",
   "execution_count": 26,
   "metadata": {},
   "outputs": [
    {
     "name": "stdout",
     "output_type": "stream",
     "text": [
      "{'format': 'PDF 1.4', 'title': 'AI_and_Technology_Knowledge_Base.docx', 'author': '', 'subject': '', 'keywords': '', 'creator': '', 'producer': 'Skia/PDF m131 Google Docs Renderer', 'creationDate': '', 'modDate': '', 'trapped': '', 'encryption': None}\n"
     ]
    }
   ],
   "source": [
    "print(pdf_document.metadata)"
   ]
  },
  {
   "cell_type": "code",
   "execution_count": null,
   "metadata": {},
   "outputs": [],
   "source": []
  }
 ],
 "metadata": {
  "kernelspec": {
   "display_name": "Python 3",
   "language": "python",
   "name": "python3"
  },
  "language_info": {
   "codemirror_mode": {
    "name": "ipython",
    "version": 3
   },
   "file_extension": ".py",
   "mimetype": "text/x-python",
   "name": "python",
   "nbconvert_exporter": "python",
   "pygments_lexer": "ipython3",
   "version": "3.11.1"
  }
 },
 "nbformat": 4,
 "nbformat_minor": 2
}
